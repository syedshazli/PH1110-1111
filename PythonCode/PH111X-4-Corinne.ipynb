{
 "cells": [
  {
   "cell_type": "markdown",
   "metadata": {},
   "source": [
    "Please change these values below for your own results from Lab 4: Momentum and Impulse"
   ]
  },
  {
   "cell_type": "code",
   "execution_count": 4,
   "metadata": {},
   "outputs": [],
   "source": [
    "\n",
    "### 1: velocity\n",
    "v_Ai = 0.2537 #initial velocity (from statistics analysis of velocity graph)\n",
    "dv_Ai = 0.01128  #uncertainty of \"\n",
    "\n",
    "v_Af = 0.2051  #final velocity (from statistics analysis of velocity graph)\n",
    "dv_Af = 0.06339 #uncertainty of \"\n",
    "\n",
    "\n",
    "#For more information about propogating uncertainty for items that use addition or subtraction please see Lab 1. \n",
    "delta_vA = v_Af - v_Ai #change in velocity \n",
    "dvA = dv_Ai + dv_Af #propogation of uncertainty for velocity \n",
    "\n",
    "\n",
    "\n",
    "### 2: mass\n",
    "m = 0.5005 #measured mass of the cart in kg\n",
    "dm = 0.0001 #uncertainty in \"\n",
    "\n"
   ]
  },
  {
   "cell_type": "markdown",
   "metadata": {},
   "source": [
    "Everything after this line you do not need to edit to find the propogation of uncertainty for Lab 4: Momentum and Impulse Strikes Back"
   ]
  },
  {
   "cell_type": "code",
   "execution_count": 6,
   "metadata": {},
   "outputs": [
    {
     "name": "stdout",
     "output_type": "stream",
     "text": [
      "change in momentum: 0.04975 ± 0.00017925  kg * m/s\n"
     ]
    }
   ],
   "source": [
    "\n",
    "\n",
    "### 3: momentum\n",
    "p_0 = (m * v_Ai) #initial momentum of the system\n",
    "dp_0 = p_0 * ((dm/m)+((dv_Ai)/abs(v_Ai))) #uncertainty in \"\n",
    "#Some notes on the above equation\n",
    "\n",
    "#Don't need to do absolute value of m because it's already positive\n",
    "# dm/m here is essentially dx/abs(x) as written in eq. 4 in Lab 1R\n",
    "# that means (dv_A0+dv_B0)/abs(v_A0+v_B0))) corresponds to dy/abs(y) \" \n",
    "# p_0 corresponds to abs(A) in eq. 4 in Lab 1R. \n",
    "\n",
    "p_f = (m * v_Af) #final momentum of the system\n",
    "\n",
    "dp_f = p_f * ((dm/m)+((dv_Af)/abs(v_Af))) #uncertainty in \"\n",
    "\n",
    "delta_p = p_f - p_0 #change in momentum\n",
    "dp = dp_f + dp_0 #uncertainty of \"\n",
    "print(\"change in momentum:\",delta_p,\"±\",dp,\" kg * m/s\") #print the change in momentum and its uncertainty\n"
   ]
  },
  {
   "cell_type": "code",
   "execution_count": null,
   "metadata": {},
   "outputs": [],
   "source": []
  }
 ],
 "metadata": {
  "kernelspec": {
   "display_name": "Python 3",
   "language": "python",
   "name": "python3"
  },
  "language_info": {
   "codemirror_mode": {
    "name": "ipython",
    "version": 3
   },
   "file_extension": ".py",
   "mimetype": "text/x-python",
   "name": "python",
   "nbconvert_exporter": "python",
   "pygments_lexer": "ipython3",
   "version": "3.7.0"
  }
 },
 "nbformat": 4,
 "nbformat_minor": 2
}
